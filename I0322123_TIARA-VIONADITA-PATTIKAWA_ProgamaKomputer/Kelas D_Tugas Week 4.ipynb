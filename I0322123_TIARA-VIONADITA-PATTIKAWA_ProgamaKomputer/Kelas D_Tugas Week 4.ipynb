{
 "cells": [
  {
   "cell_type": "code",
   "execution_count": 1,
   "metadata": {},
   "outputs": [
    {
     "name": "stdout",
     "output_type": "stream",
     "text": [
      "Tiara Vionadita Pattikawa\n",
      "I0322123\n",
      "D\n"
     ]
    }
   ],
   "source": [
    "print(input(\"Nama: \"))\n",
    "print(input(\"NIM: \"))\n",
    "print(input(\"Kelas: \"))"
   ]
  },
  {
   "attachments": {},
   "cell_type": "markdown",
   "metadata": {},
   "source": [
    "## 1."
   ]
  },
  {
   "attachments": {},
   "cell_type": "markdown",
   "metadata": {},
   "source": [
    "Buatlah program yang menampilkan salam “Selamat Pagi” dari berbagai negara {Inggris, Perancis, Italia, Spanyol, Jepang, Korea} dengan dua input dari user yaitu bahasa dan diikuti nama user.<br>\n",
    "<br>Ex : \n",
    "<br>\"Ohayou, Onii Chan\"\n",
    "> *note: Kerjakan soal ini dengan percabangan*"
   ]
  },
  {
   "cell_type": "code",
   "execution_count": 24,
   "metadata": {},
   "outputs": [
    {
     "name": "stdout",
     "output_type": "stream",
     "text": [
      "Buenos días, Tiara Bieber!\n"
     ]
    }
   ],
   "source": [
    "# Kerjakan soal nomor 1 disini\n",
    "\n",
    "# Ucapan selamat pagi dari berbagai negara\n",
    "Inggris     = \"Good morning\"\n",
    "Prancis     = \"Bonjour\"\n",
    "Italia      = \"Buon giorno\"\n",
    "Spanyol     = \"Buenos días\"\n",
    "Jepang      = \"おはよう\"\n",
    "Korea       = \"안녕하세요\"\n",
    "\n",
    "Bahasa  = str(input(\"Hi, selamat datang di Kamus Sapayuk! Kamu mau disapa pakai bahasa apa? Ada Bahasa Inggris, Prancis, Italia, Spanyol, Jepang, dan Korea loh! Pilih salah satu yaa\"))\n",
    "Nama    = str(input(\"Nama/panggilan = \"))\n",
    "\n",
    "if (Bahasa.lower() == \"inggris\"):\n",
    "    print(f\"{Inggris}, {Nama}!\")\n",
    "\n",
    "elif (Bahasa.lower() == \"prancis\"):\n",
    "    print(f\"{Prancis}, {Nama}!\")\n",
    "\n",
    "elif (Bahasa.lower() == \"italia\"):\n",
    "    print(f\"{Italia}, {Nama}!\")\n",
    "\n",
    "elif (Bahasa.lower() == \"spanyol\"):\n",
    "    print(f\"{Spanyol}, {Nama}!\")\n",
    "\n",
    "elif (Bahasa.lower() == \"jepang\"):\n",
    "    print(f\"{Jepang}, {Nama}!\")\n",
    "\n",
    "elif (Bahasa.lower() == \"korea\"):\n",
    "    print(f\"{Korea}, {Nama}!\")\n",
    "\n",
    "else:\n",
    "    print(f\"Yah, bahasa yang {Nama} pilih belum tersedia nih :( pilih yang lain yaa!\")\n"
   ]
  },
  {
   "attachments": {},
   "cell_type": "markdown",
   "metadata": {},
   "source": [
    "## 2."
   ]
  },
  {
   "attachments": {},
   "cell_type": "markdown",
   "metadata": {},
   "source": [
    "Buatlah program perhitungan umur dengan menggunakan input user yaitu tahun lahir dari user.<br>\n",
    "<br>Output yang dihasilkan adalah sebagai berikut:\n",
    "<br>\"Apakah anda berasal dari masa depan?\"\n",
    "<br>\"Anda barusaja lahir\"\n",
    "<br>\"Umur Anda adalah xx tahun\"\n",
    "> *note: Kerjakan soal ini dengan percabangan*"
   ]
  },
  {
   "cell_type": "code",
   "execution_count": 18,
   "metadata": {},
   "outputs": [
    {
     "name": "stdout",
     "output_type": "stream",
     "text": [
      "Umur Anda adalah 20 tahun\n"
     ]
    }
   ],
   "source": [
    "# Kerjakan soal nomor 2 disini\n",
    "\n",
    "Tahun   = int(input(\"Masukkan tahun kelahiran Anda = \"))\n",
    "\n",
    "if (Tahun > 2023):\n",
    "    print(\"Apakah Anda berasal dari masa depan?\")\n",
    "elif (Tahun == 2023):\n",
    "    print(\"Anda baru saja lahir\")\n",
    "else:\n",
    "    print(f\"Umur Anda adalah {2023 - Tahun} tahun\")"
   ]
  }
 ],
 "metadata": {
  "kernelspec": {
   "display_name": "Python 3",
   "language": "python",
   "name": "python3"
  },
  "language_info": {
   "codemirror_mode": {
    "name": "ipython",
    "version": 3
   },
   "file_extension": ".py",
   "mimetype": "text/x-python",
   "name": "python",
   "nbconvert_exporter": "python",
   "pygments_lexer": "ipython3",
   "version": "3.10.8"
  },
  "orig_nbformat": 4,
  "vscode": {
   "interpreter": {
    "hash": "c7d675f63919c9aa1ccde092a40e3edf6da61b69d6151d2744e21eef4a48726e"
   }
  }
 },
 "nbformat": 4,
 "nbformat_minor": 2
}
